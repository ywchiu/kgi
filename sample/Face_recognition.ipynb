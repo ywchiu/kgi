{
 "cells": [
  {
   "cell_type": "markdown",
   "metadata": {},
   "source": [
    "## [實例] 利用卷積神經網路辨識圖片"
   ]
  },
  {
   "cell_type": "markdown",
   "metadata": {},
   "source": [
    "### 自己寫爬蟲"
   ]
  },
  {
   "cell_type": "code",
   "execution_count": 3,
   "metadata": {},
   "outputs": [],
   "source": [
    "import requests\n",
    "from bs4 import BeautifulSoup\n",
    "google_url = 'https://www.google.com/search?ei=gAhqXciWMbCSr7wPgLaqiAE&yv=3&tbm=isch&q={}&vet=10ahUKEwjI1v2Bs6zkAhUwyYsBHQCbChEQuT0IWygB.gAhqXciWMbCSr7wPgLaqiAE.i&ved=0ahUKEwjI1v2Bs6zkAhUwyYsBHQCbChEQuT0IWygB&ijn=1&start={}&asearch=ichunk&async=_id:rg_s,_pms:s,_jsfs:Ffpdje,_fmt:pc'\n",
    "res = requests.get(google_url.format('周子瑜', 0))\n",
    "soup = BeautifulSoup(res.text, 'lxml' )"
   ]
  },
  {
   "cell_type": "code",
   "execution_count": 11,
   "metadata": {},
   "outputs": [
    {
     "name": "stdout",
     "output_type": "stream",
     "text": [
      "https://encrypted-tbn0.gstatic.com/images?q=tbn:ANd9GcSusiRDen63kpJt1tKfPRrrohK1O06dKpMw7vqn4mKC0I7d7SrVyQ\n",
      "======================\n",
      "https://encrypted-tbn0.gstatic.com/images?q=tbn:ANd9GcR8vQgndPe1a-ENKD16Q_qItZbj58at5oQu_x8f6MFwbSF8Gy6u\n",
      "======================\n",
      "https://encrypted-tbn0.gstatic.com/images?q=tbn:ANd9GcQLj8QNjvWyzBVLrBJ8RYZFCnq-ueBQ6-HN2uv50Nr23ojWIoeFOg\n",
      "======================\n",
      "https://encrypted-tbn0.gstatic.com/images?q=tbn:ANd9GcQ4tJeNm9SPJSrq_6o6Fk9PpkXv0oOa23VZV7OC7-9jcSPkfFaYXg\n",
      "======================\n",
      "https://encrypted-tbn0.gstatic.com/images?q=tbn:ANd9GcSUKuniCIq_bcdxjYl73miKP3sYBdEbXV21iimjmM_5AiqjgIrGog\n",
      "======================\n",
      "https://encrypted-tbn0.gstatic.com/images?q=tbn:ANd9GcQlsIyQqFJA3BfrtGesXk3OEF339r-a36JeZCCaDqG3_6qK_DOV\n",
      "======================\n",
      "https://encrypted-tbn0.gstatic.com/images?q=tbn:ANd9GcRlPzcL8oZPRCRxp-GO4XnapE4gy7s2O12bhmL3ihctYSKjXVc9Ag\n",
      "======================\n",
      "https://encrypted-tbn0.gstatic.com/images?q=tbn:ANd9GcQpz161DMx7_8FlK7bHsFElEZqzkv_ep7GkzmXHS3_K-7aLHC5z2w\n",
      "======================\n",
      "https://encrypted-tbn0.gstatic.com/images?q=tbn:ANd9GcQ8WAobvi9cqAQS-tGxzyyw3mXIyhakelIoMWrhkr9XFILj7voF\n",
      "======================\n",
      "https://encrypted-tbn0.gstatic.com/images?q=tbn:ANd9GcQ2ZSDtGFzKl1d2pqYH0Eemf2bmBNsLaWXendqEOZvf9mqUMVIxzQ\n",
      "======================\n",
      "https://encrypted-tbn0.gstatic.com/images?q=tbn:ANd9GcSe-IjhLsd-zkN2v5eSe1BIQtB5MNb2nU-raBmRTrDndLc6wG0a8w\n",
      "======================\n",
      "https://encrypted-tbn0.gstatic.com/images?q=tbn:ANd9GcQPvKq3coqJQfHEyZx_i_bLc6u3eIqb8lVKaPI5oq5xiX8bxduD\n",
      "======================\n",
      "https://encrypted-tbn0.gstatic.com/images?q=tbn:ANd9GcS1S9t55rxFQDUYMCjJ9i0SEMgk3ZldG0f6IQ-4Qy3oojYqkEwaZg\n",
      "======================\n",
      "https://encrypted-tbn0.gstatic.com/images?q=tbn:ANd9GcTHj-5ueAz3RI8XfM88vnt5ZrRCn3IunVpUxoTyeEW2Ml-SrNlIvA\n",
      "======================\n",
      "https://encrypted-tbn0.gstatic.com/images?q=tbn:ANd9GcTbIx9wwIUZvMWT4wy9ium8l8NAsErK_bOSbq-Y5bo_MXrbRZpO\n",
      "======================\n",
      "https://encrypted-tbn0.gstatic.com/images?q=tbn:ANd9GcQWH_aMTZOkNXT6NK7WwBP_0OgA5Ugv34HT0t-pNoUannRIj0IM1A\n",
      "======================\n",
      "https://encrypted-tbn0.gstatic.com/images?q=tbn:ANd9GcQJz9DRqFkybVM5fLoC0ePOcX9nhwX0fx0I1iYCcPzMY6W6mzI31g\n",
      "======================\n",
      "https://encrypted-tbn0.gstatic.com/images?q=tbn:ANd9GcR3fScgOWrBpXcWhF9rOZmdI13fXPv8G03MUkzFBm-d0NzQvpIOQQ\n",
      "======================\n",
      "https://encrypted-tbn0.gstatic.com/images?q=tbn:ANd9GcSE4wei8UjHL7_srvZ_FZhsZqA1C5zf2q9a4ncEY3nZsKolK5j8\n",
      "======================\n",
      "https://encrypted-tbn0.gstatic.com/images?q=tbn:ANd9GcSKi4T14VJa7h6I6frgKHmS0_ol9lI7CGFrUKrcpYn9_F5PHYzz\n",
      "======================\n"
     ]
    }
   ],
   "source": [
    "for alink in soup.select('a img'):\n",
    "    if alink.get('src'):\n",
    "        print(alink.get('src'))\n",
    "        print('======================')"
   ]
  },
  {
   "cell_type": "code",
   "execution_count": 13,
   "metadata": {},
   "outputs": [],
   "source": [
    "res = requests.get('https://encrypted-tbn0.gstatic.com/images?q=tbn:ANd9GcSusiRDen63kpJt1tKfPRrrohK1O06dKpMw7vqn4mKC0I7d7SrVyQ')\n",
    "with open('1.jpg' , 'wb') as f:\n",
    "    f.write(res.content)"
   ]
  },
  {
   "cell_type": "code",
   "execution_count": 18,
   "metadata": {},
   "outputs": [],
   "source": [
    "def getPicture(path, url):\n",
    "    res = requests.get(url)\n",
    "    with open('{}/{}.jpg'.format(path, url.split('tbn:')[1]) , 'wb') as f:\n",
    "        f.write(res.content)"
   ]
  },
  {
   "cell_type": "code",
   "execution_count": 20,
   "metadata": {},
   "outputs": [],
   "source": [
    "getPicture('zhiyu','https://encrypted-tbn0.gstatic.com/images?q=tbn:ANd9GcQWH_aMTZOkNXT6NK7WwBP_0OgA5Ugv34HT0t-pNoUannRIj0IM1A')"
   ]
  },
  {
   "cell_type": "code",
   "execution_count": 24,
   "metadata": {},
   "outputs": [],
   "source": [
    "import requests\n",
    "import os\n",
    "from bs4 import BeautifulSoup\n",
    "google_url = 'https://www.google.com/search?ei=gAhqXciWMbCSr7wPgLaqiAE&yv=3&tbm=isch&q={}&vet=10ahUKEwjI1v2Bs6zkAhUwyYsBHQCbChEQuT0IWygB.gAhqXciWMbCSr7wPgLaqiAE.i&ved=0ahUKEwjI1v2Bs6zkAhUwyYsBHQCbChEQuT0IWygB&ijn=1&start={}&asearch=ichunk&async=_id:rg_s,_pms:s,_jsfs:Ffpdje,_fmt:pc'\n",
    "\n",
    "def getIdolImage(path, term, pagenum):\n",
    "    if not os.path.exists(path):\n",
    "        os.mkdir(path)\n",
    "    for p in range(pagenum):\n",
    "        res = requests.get(google_url.format(term, p* 100))\n",
    "        soup = BeautifulSoup(res.text, 'lxml' )\n",
    "        for alink in soup.select('a img'):\n",
    "            if alink.get('src'):\n",
    "                getPicture(path, alink.get('src'))"
   ]
  },
  {
   "cell_type": "code",
   "execution_count": 26,
   "metadata": {},
   "outputs": [],
   "source": [
    "getIdolImage('zhiyu','周子瑜', 5)"
   ]
  },
  {
   "cell_type": "code",
   "execution_count": 27,
   "metadata": {},
   "outputs": [],
   "source": [
    "getIdolImage('chilin','林志玲', 5)"
   ]
  },
  {
   "cell_type": "code",
   "execution_count": 28,
   "metadata": {},
   "outputs": [],
   "source": [
    "getIdolImage('puff','郭雪芙', 5)"
   ]
  },
  {
   "cell_type": "markdown",
   "metadata": {},
   "source": [
    "### google_images_download"
   ]
  },
  {
   "cell_type": "code",
   "execution_count": 29,
   "metadata": {
    "scrolled": true
   },
   "outputs": [
    {
     "name": "stdout",
     "output_type": "stream",
     "text": [
      "Collecting google_images_download\n",
      "  Downloading https://files.pythonhosted.org/packages/18/ed/0319d30c48f3653802da8e6dcfefcea6370157d10d566ef6807cceb5ec4d/google_images_download-2.8.0.tar.gz\n",
      "Collecting selenium (from google_images_download)\n",
      "  Downloading https://files.pythonhosted.org/packages/80/d6/4294f0b4bce4de0abf13e17190289f9d0613b0a44e5dd6a7f5ca98459853/selenium-3.141.0-py2.py3-none-any.whl (904kB)\n",
      "Requirement already satisfied: urllib3 in c:\\programdata\\anaconda3\\lib\\site-packages (from selenium->google_images_download) (1.24.2)\n",
      "Building wheels for collected packages: google-images-download\n",
      "  Building wheel for google-images-download (setup.py): started\n",
      "  Building wheel for google-images-download (setup.py): finished with status 'done'\n",
      "  Stored in directory: C:\\Users\\user\\AppData\\Local\\pip\\Cache\\wheels\\1f\\28\\ad\\f56e7061e1d2a9a1affe2f9c649c2570cb9198dd24ede0bbab\n",
      "Successfully built google-images-download\n",
      "Installing collected packages: selenium, google-images-download\n",
      "Successfully installed google-images-download-2.8.0 selenium-3.141.0\n"
     ]
    }
   ],
   "source": [
    "! pip install google_images_download"
   ]
  },
  {
   "cell_type": "code",
   "execution_count": 30,
   "metadata": {},
   "outputs": [
    {
     "name": "stdout",
     "output_type": "stream",
     "text": [
      "\n",
      "Item no.: 1 --> Item name = \\u5317\\u6975\\u718a\n",
      "Evaluating...\n",
      "Starting Download...\n",
      "Image URL: https://www.natgeomedia.com/wp-content/uploads/2018/08/explore-through-the-lens-polar-bear.adapt_.885.1-801x1024.jpg\n",
      "Completed Image ====> 1.explore-through-the-lens-polar-bear.adapt_.885.1-801x1024.jpg\n",
      "Image URL: https://images.chinatimes.com/newsphoto/2019-07-29/900/20190729003677.jpg\n",
      "Completed Image ====> 2.20190729003677.jpg\n",
      "Image URL: https://upload.wikimedia.org/wikipedia/commons/thumb/4/45/Polar_Bear_ANWR_1.jpg/300px-Polar_Bear_ANWR_1.jpg\n",
      "Completed Image ====> 3.300px-Polar_Bear_ANWR_1.jpg\n",
      "Image URL: http://taiwanbear.org.tw/admin/resource/images/f5cec8c65ae27a.jpeg\n",
      "Completed Image ====> 4.f5cec8c65ae27a.jpeg\n",
      "Image URL: https://cw1.tw/CW/images/article/201704/article-58f87f1924ef8.jpg\n",
      "Completed Image ====> 5.article-58f87f1924ef8.jpg\n",
      "Image URL: https://cdn2.ettoday.net/images/3846/d3846148.jpg\n",
      "Completed Image ====> 6.d3846148.jpg\n",
      "Image URL: http://www.hkedcity.net/cms_files/cms-funpost/1-1000/178923b093e79fa233bb1e76137391b4325/%E5%8C%97%E6%A5%B5%E7%86%8A.jpg\n",
      "Completed Image ====> 7.%E5%8C%97%E6%A5%B5%E7%86%8A.jpg\n",
      "Image URL: https://static02-proxy.hket.com/res/v3/image/content/2130000/2132211/11896034_1045109095501030_4991489562653432165_n_1024_1024.jpg\n",
      "Completed Image ====> 8.11896034_1045109095501030_4991489562653432165_n_1024_1024.jpg\n",
      "Image URL: https://www.natgeomedia.com/userfiles/sm/sm804_images_A1/6369/5666696458.jpg\n",
      "Completed Image ====> 9.5666696458.jpg\n",
      "Image URL: https://cdn2.ettoday.net/images/4179/d4179434.jpg\n",
      "Completed Image ====> 10.d4179434.jpg\n",
      "Image URL: https://attach.setn.com/newsimages/2015/12/25/411238-XXL.jpg\n",
      "Completed Image ====> 11.411238-XXL.jpg\n",
      "Image URL: https://img.ltn.com.tw/Upload/liveNews/BigPic/600_phpugdrFK.jpg\n",
      "Completed Image ====> 12.600_phpugdrFK.jpg\n",
      "Image URL: https://fpscdn.yam.com/world/201611/79/ff/5833eb0be79ff.jpg\n",
      "URLError on an image...trying next one... Error: <urlopen error [SSL: CERTIFICATE_VERIFY_FAILED] certificate verify failed: unable to get local issuer certificate (_ssl.c:1056)>\n",
      "Image URL: https://static02-proxy.hket.com/res/v3/image/content/2130000/2132211/polar_thumb_20180808_ch_1024.jpg\n",
      "Completed Image ====> 13.polar_thumb_20180808_ch_1024.jpg\n",
      "Image URL: https://pgw.udn.com.tw/gw/photo.php?u=https://uc.udn.com.tw/photo/2019/04/18/99/6193034.jpg&x=0&y=0&sw=0&sh=0&sl=W&fw=1140\n",
      "Invalid or missing image format. Skipping...\n",
      "Image URL: https://anntw-prod.s3.amazonaws.com/assets/images/000/008/517/big/%E5%9B%A0%E7%B4%90%E7%89%B9%E4%BA%BA%E7%82%BA%E7%94%9F%E5%AD%98_%E6%8C%81%E7%BA%8C%E7%8D%B5%E6%AE%BA%E5%8C%97%E6%A5%B5%E7%86%8A.jpg?1404117680\n",
      "Completed Image ====> 14.%E5%9B%A0%E7%B4%90%E7%89%B9%E4%BA%BA%E7%82%BA%E7%94%9F%E5%AD%98_%E6%8C%81%E7%BA%8C%E7%8D%B5%E6%AE%BA%E5%8C%97%E6%A5%B5%E7%86%8A.jpg\n",
      "Image URL: http://i.epochtimes.com/assets/uploads/2016/04/climate-polar-bear-ice-credit-paul-souders-world-foto-1200-600x400.jpg\n",
      "Completed Image ====> 15.climate-polar-bear-ice-credit-paul-souders-world-foto-1200-600x400.jpg\n",
      "Image URL: https://i2.kknews.cc/SIG=1cq26ju/ctp-vzntr/1531984935501862443r4p3.jpg\n",
      "Completed Image ====> 16.1531984935501862443r4p3.jpg\n",
      "Image URL: http://news.memehk.com/img/post/8178_574820.jpg\n",
      "Completed Image ====> 17.8178_574820.jpg\n",
      "Image URL: https://sites.google.com/site/beijixiongvincent0925/_/rsrc/1362484296848/home/65413131324.jpg?height=315&width=400\n",
      "Completed Image ====> 18.65413131324.jpg\n",
      "Image URL: https://upload.wikimedia.org/wikipedia/commons/thumb/e/ec/Polar_Bear_2004-11-15.jpg/250px-Polar_Bear_2004-11-15.jpg\n",
      "Completed Image ====> 19.250px-Polar_Bear_2004-11-15.jpg\n",
      "Image URL: https://www.natgeomedia.com/userfiles/sm/sm804_images_A1/7023/310386524103.jpg\n",
      "Completed Image ====> 20.310386524103.jpg\n",
      "\n",
      "Errors: 2\n",
      "\n"
     ]
    }
   ],
   "source": [
    "from google_images_download import google_images_download \n",
    "response = google_images_download.googleimagesdownload()   \n",
    "arguments = {\"keywords\":\"北極熊\",\"limit\":20,\"print_urls\":True}   \n",
    "paths = response.download(arguments) "
   ]
  },
  {
   "cell_type": "markdown",
   "metadata": {},
   "source": [
    "### 使用OpenCV 擷取人臉部分\n",
    "- https://www.lfd.uci.edu/~gohlke/pythonlibs/\n",
    "- opencv_python‑3.4.7‑cp37‑cp37m‑win_amd64.whl\n",
    "- https://download.lfd.uci.edu/pythonlibs/r3aykn4w/opencv_python-3.4.7-cp37-cp37m-win_amd64.whl"
   ]
  },
  {
   "cell_type": "code",
   "execution_count": 31,
   "metadata": {},
   "outputs": [
    {
     "name": "stdout",
     "output_type": "stream",
     "text": [
      "Processing c:\\users\\user\\downloads\\opencv_python-3.4.7-cp37-cp37m-win_amd64.whl\n",
      "Installing collected packages: opencv-python\n",
      "Successfully installed opencv-python-3.4.7\n"
     ]
    }
   ],
   "source": [
    "! pip install C:/Users/user/Downloads/opencv_python-3.4.7-cp37-cp37m-win_amd64.whl"
   ]
  },
  {
   "cell_type": "code",
   "execution_count": 32,
   "metadata": {},
   "outputs": [],
   "source": [
    "import cv2 as cv"
   ]
  },
  {
   "cell_type": "markdown",
   "metadata": {},
   "source": [
    "### Haar cascade\n",
    "https://raw.githubusercontent.com/opencv/opencv/master/data/haarcascades/haarcascade_frontalface_default.xml"
   ]
  },
  {
   "cell_type": "code",
   "execution_count": 34,
   "metadata": {},
   "outputs": [
    {
     "data": {
      "image/png": "[encoded data removed]",
      "text/plain": [
       "<PIL.JpegImagePlugin.JpegImageFile image mode=RGB size=225x225 at 0xA2C59E8>"
      ]
     },
     "execution_count": 34,
     "metadata": {},
     "output_type": "execute_result"
    }
   ],
   "source": [
    "from PIL import Image\n",
    "im = Image.open('zhiyu/ANd9GcQcLKvlkOVQaeeoIq95TvEoxS307xBVfrXtbRsU4ylcydLoa5RT.jpg')\n",
    "im"
   ]
  },
  {
   "cell_type": "code",
   "execution_count": 35,
   "metadata": {},
   "outputs": [
    {
     "data": {
      "text/plain": [
       "(225, 225, 3)"
      ]
     },
     "execution_count": 35,
     "metadata": {},
     "output_type": "execute_result"
    }
   ],
   "source": [
    "import cv2 as cv\n",
    "face_cascade = cv.CascadeClassifier('haarcascade_frontalface_default.xml')\n",
    "img = cv.imread('zhiyu/ANd9GcQcLKvlkOVQaeeoIq95TvEoxS307xBVfrXtbRsU4ylcydLoa5RT.jpg')\n",
    "img.shape"
   ]
  },
  {
   "cell_type": "code",
   "execution_count": 36,
   "metadata": {},
   "outputs": [],
   "source": [
    "?face_cascade.detectMultiScale"
   ]
  },
  {
   "cell_type": "code",
   "execution_count": 37,
   "metadata": {},
   "outputs": [],
   "source": [
    "faces = face_cascade.detectMultiScale(img, 1.3, 5)"
   ]
  },
  {
   "cell_type": "code",
   "execution_count": 38,
   "metadata": {},
   "outputs": [
    {
     "data": {
      "text/plain": [
       "array([[81,  6, 84, 84]], dtype=int32)"
      ]
     },
     "execution_count": 38,
     "metadata": {},
     "output_type": "execute_result"
    }
   ],
   "source": [
    "faces"
   ]
  },
  {
   "cell_type": "code",
   "execution_count": 39,
   "metadata": {},
   "outputs": [],
   "source": [
    "x,y,w,h = faces[0]"
   ]
  },
  {
   "cell_type": "code",
   "execution_count": 40,
   "metadata": {},
   "outputs": [],
   "source": [
    "box = (x, y, x+w, y+h)"
   ]
  },
  {
   "cell_type": "code",
   "execution_count": 41,
   "metadata": {},
   "outputs": [],
   "source": [
    "crpim = im.crop(box).resize((64,64))"
   ]
  },
  {
   "cell_type": "code",
   "execution_count": 42,
   "metadata": {},
   "outputs": [
    {
     "data": {
      "image/png": "[encoded data removed]",
      "text/plain": [
       "<PIL.Image.Image image mode=RGB size=64x64 at 0xA2D1CC0>"
      ]
     },
     "execution_count": 42,
     "metadata": {},
     "output_type": "execute_result"
    }
   ],
   "source": [
    "crpim"
   ]
  },
  {
   "cell_type": "code",
   "execution_count": 43,
   "metadata": {},
   "outputs": [],
   "source": [
    "src  = 'zhiyu/'\n",
    "dest = 'zhiyu_face/'\n",
    "\n",
    "if not os.path.exists(dest):\n",
    "    os.mkdir(dest)\n",
    "    \n",
    "face_cascade = cv.CascadeClassifier('haarcascade_frontalface_default.xml')\n",
    "\n",
    "for filename in os.listdir(src):\n",
    "    img = cv.imread(src + filename)\n",
    "    faces = face_cascade.detectMultiScale(img, 1.3, 5)\n",
    "    if len(faces) == 1:\n",
    "        im      = Image.open(src + filename)\n",
    "        x,y,w,h = faces[0]\n",
    "        box     = (x, y, x+w, y+h)\n",
    "        crpim   = im.crop(box).resize((64,64))\n",
    "        crpim.save(dest + filename)"
   ]
  },
  {
   "cell_type": "code",
   "execution_count": 44,
   "metadata": {},
   "outputs": [],
   "source": [
    "face_cascade = cv.CascadeClassifier('haarcascade_frontalface_default.xml')\n",
    "\n",
    "def cropIdolFace(src, dest):\n",
    "    if not os.path.exists(dest):\n",
    "        os.mkdir(dest)\n",
    "    for filename in os.listdir(src):\n",
    "        img = cv.imread(src + filename)\n",
    "        faces = face_cascade.detectMultiScale(img, 1.3, 5)\n",
    "        if len(faces) == 1:\n",
    "            im      = Image.open(src + filename)\n",
    "            x,y,w,h = faces[0]\n",
    "            box     = (x, y, x+w, y+h)\n",
    "            crpim   = im.crop(box).resize((64,64))\n",
    "            crpim.save(dest + filename)"
   ]
  },
  {
   "cell_type": "code",
   "execution_count": 45,
   "metadata": {},
   "outputs": [],
   "source": [
    "cropIdolFace('zhiyu/', 'zhiyu_face/')"
   ]
  },
  {
   "cell_type": "code",
   "execution_count": 46,
   "metadata": {},
   "outputs": [],
   "source": [
    "cropIdolFace('chilin/', 'chilin_face/')"
   ]
  },
  {
   "cell_type": "code",
   "execution_count": 47,
   "metadata": {},
   "outputs": [],
   "source": [
    "cropIdolFace('puff/', 'puff_face/')"
   ]
  },
  {
   "cell_type": "markdown",
   "metadata": {},
   "source": [
    "### face_recognition"
   ]
  },
  {
   "cell_type": "code",
   "execution_count": null,
   "metadata": {},
   "outputs": [],
   "source": [
    "! pip install face_recognition"
   ]
  },
  {
   "cell_type": "code",
   "execution_count": null,
   "metadata": {},
   "outputs": [],
   "source": [
    "import face_recognition\n",
    "image = face_recognition.load_image_file('zhiyu/ANd9GcQcLKvlkOVQaeeoIq95TvEoxS307xBVfrXtbRsU4ylcydLoa5RT.jpg')\n",
    "face_locations = face_recognition.face_locations(image)\n",
    "face_locations"
   ]
  },
  {
   "cell_type": "markdown",
   "metadata": {},
   "source": [
    "### 使用 CNN 建立人臉識別模型"
   ]
  },
  {
   "cell_type": "code",
   "execution_count": 19,
   "metadata": {},
   "outputs": [],
   "source": [
    "from keras.models import Sequential \n",
    "from keras.layers import Conv2D\n",
    "from keras.layers import Dropout\n",
    "from keras.layers import MaxPooling2D \n",
    "from keras.layers import Flatten\n",
    "from keras.layers import Dense\n",
    "\n",
    "# Initialising the CNN\n",
    "classifier = Sequential()\n",
    "\n",
    "# Convolution\n",
    "classifier.add(Conv2D(32, (3, 3), input_shape = (64, 64,\n",
    "3), activation = 'relu',padding = 'same'))\n",
    "# Max Pooling\n",
    "classifier.add(MaxPooling2D(pool_size = (2, 2)))\n",
    "\n",
    "# Convolution\n",
    "classifier.add(Conv2D(32, (3, 3), activation = 'relu',padding = 'same'))\n",
    "# Max Pooling\n",
    "classifier.add(MaxPooling2D(pool_size = (2, 2)))\n",
    "\n",
    "# Flattening\n",
    "classifier.add(Flatten())\n",
    "\n",
    "# Fully Connected\n",
    "classifier.add(Dense(units = 128, activation = 'relu')) \n",
    "classifier.add(Dropout(rate=0.1)) \n",
    "classifier.add(Dense(units = 128, activation = 'relu')) \n",
    "classifier.add(Dropout(rate=0.1)) \n",
    "classifier.add(Dense(units = 3, activation = 'softmax'))\n",
    "\n",
    "classifier.compile(optimizer = 'adam', \n",
    "                        loss ='categorical_crossentropy', \n",
    "                     metrics = ['accuracy'])"
   ]
  },
  {
   "cell_type": "code",
   "execution_count": 20,
   "metadata": {},
   "outputs": [
    {
     "name": "stdout",
     "output_type": "stream",
     "text": [
      "_________________________________________________________________\n",
      "Layer (type)                 Output Shape              Param #   \n",
      "=================================================================\n",
      "conv2d_7 (Conv2D)            (None, 64, 64, 32)        896       \n",
      "_________________________________________________________________\n",
      "max_pooling2d_7 (MaxPooling2 (None, 32, 32, 32)        0         \n",
      "_________________________________________________________________\n",
      "conv2d_8 (Conv2D)            (None, 32, 32, 32)        9248      \n",
      "_________________________________________________________________\n",
      "max_pooling2d_8 (MaxPooling2 (None, 16, 16, 32)        0         \n",
      "_________________________________________________________________\n",
      "flatten_4 (Flatten)          (None, 8192)              0         \n",
      "_________________________________________________________________\n",
      "dense_10 (Dense)             (None, 128)               1048704   \n",
      "_________________________________________________________________\n",
      "dropout_7 (Dropout)          (None, 128)               0         \n",
      "_________________________________________________________________\n",
      "dense_11 (Dense)             (None, 128)               16512     \n",
      "_________________________________________________________________\n",
      "dropout_8 (Dropout)          (None, 128)               0         \n",
      "_________________________________________________________________\n",
      "dense_12 (Dense)             (None, 3)                 387       \n",
      "=================================================================\n",
      "Total params: 1,075,747\n",
      "Trainable params: 1,075,747\n",
      "Non-trainable params: 0\n",
      "_________________________________________________________________\n"
     ]
    }
   ],
   "source": [
    "classifier.summary()"
   ]
  },
  {
   "cell_type": "markdown",
   "metadata": {},
   "source": [
    "### 圖像增廣技術"
   ]
  },
  {
   "cell_type": "code",
   "execution_count": 7,
   "metadata": {},
   "outputs": [],
   "source": [
    "from keras.preprocessing.image import ImageDataGenerator\n",
    "\n",
    "train_datagen = ImageDataGenerator(rescale = 1./255,\n",
    "                                   shear_range = 0.2,     #x坐标保持不变，而对应的y坐标按比例发生平移\n",
    "                                   zoom_range = 0.2,      #可以让图片在长或宽的方向进行放大\n",
    "                                   horizontal_flip = True #水平翻转操作\n",
    "                                  )"
   ]
  },
  {
   "cell_type": "code",
   "execution_count": 8,
   "metadata": {},
   "outputs": [],
   "source": [
    "test_datagen = ImageDataGenerator(rescale = 1./255)"
   ]
  },
  {
   "cell_type": "markdown",
   "metadata": {},
   "source": [
    "### 將資料分為訓練與測試資料集"
   ]
  },
  {
   "cell_type": "code",
   "execution_count": 9,
   "metadata": {},
   "outputs": [],
   "source": [
    "import os\n",
    "if not os.path.exists('train/'):\n",
    "    os.mkdir('train/')\n",
    "if not os.path.exists('test/'):\n",
    "    os.mkdir('test/')"
   ]
  },
  {
   "cell_type": "code",
   "execution_count": 10,
   "metadata": {},
   "outputs": [],
   "source": [
    "import os\n",
    "len(list(os.listdir('chilin_face/')))\n",
    "dataset = list(os.listdir('chilin_face/'))\n",
    "\n",
    "from sklearn.model_selection import train_test_split\n",
    "train_data, test_data = train_test_split(dataset, test_size= 0.2, random_state = 42)"
   ]
  },
  {
   "cell_type": "code",
   "execution_count": 11,
   "metadata": {},
   "outputs": [],
   "source": [
    "if not os.path.exists('train/chilin_face/'):\n",
    "    os.mkdir('train/chilin_face/')\n",
    "if not os.path.exists('test/chilin_face/'):\n",
    "    os.mkdir('test/chilin_face/')\n",
    "    \n",
    "for f in train_data:\n",
    "    os.rename('chilin_face/' + f, 'train/chilin_face/' + f)\n",
    "for f in test_data:\n",
    "    os.rename('chilin_face/' + f, 'test/chilin_face/' + f)"
   ]
  },
  {
   "cell_type": "code",
   "execution_count": 12,
   "metadata": {},
   "outputs": [],
   "source": [
    "import os\n",
    "from sklearn.model_selection import train_test_split\n",
    "\n",
    "def splitDataset(dirs):\n",
    "    dataset = list(os.listdir(dirs))\n",
    "    train_data, test_data = train_test_split(dataset, test_size= 0.2, random_state = 42)\n",
    "    \n",
    "    if not os.path.exists('train/'+dirs):\n",
    "        os.mkdir('train/'+dirs)\n",
    "    if not os.path.exists('test/'+dirs):\n",
    "        os.mkdir('test/'+dirs)\n",
    "\n",
    "    for f in train_data:\n",
    "        os.rename(dirs + f, 'train/'+ dirs + f)\n",
    "    for f in test_data:\n",
    "        os.rename(dirs + f, 'test/' + dirs +f)"
   ]
  },
  {
   "cell_type": "code",
   "execution_count": 13,
   "metadata": {},
   "outputs": [],
   "source": [
    "splitDataset('puff_face/')"
   ]
  },
  {
   "cell_type": "code",
   "execution_count": 14,
   "metadata": {},
   "outputs": [],
   "source": [
    "splitDataset('zhiyu_face/')"
   ]
  },
  {
   "cell_type": "code",
   "execution_count": 15,
   "metadata": {},
   "outputs": [
    {
     "name": "stdout",
     "output_type": "stream",
     "text": [
      "Found 118 images belonging to 3 classes.\n"
     ]
    }
   ],
   "source": [
    "training_set = train_datagen.flow_from_directory(\n",
    "    'train/', target_size = (64, 64),\n",
    "     batch_size = 16,\n",
    "     class_mode = 'categorical')"
   ]
  },
  {
   "cell_type": "code",
   "execution_count": 16,
   "metadata": {},
   "outputs": [
    {
     "name": "stdout",
     "output_type": "stream",
     "text": [
      "Found 31 images belonging to 3 classes.\n"
     ]
    }
   ],
   "source": [
    "test_set = test_datagen.flow_from_directory(\n",
    "    'test/', target_size = (64, 64),\n",
    "    batch_size = 30, \n",
    "    class_mode = 'categorical')"
   ]
  },
  {
   "cell_type": "markdown",
   "metadata": {},
   "source": [
    "### 訓練神經網路"
   ]
  },
  {
   "cell_type": "code",
   "execution_count": 22,
   "metadata": {},
   "outputs": [
    {
     "name": "stdout",
     "output_type": "stream",
     "text": [
      "Epoch 1/10\n",
      " 2/10 [=====>........................] - ETA: 0s - loss: 0.6112 - acc: 0.6875"
     ]
    },
    {
     "name": "stderr",
     "output_type": "stream",
     "text": [
      "C:\\ProgramData\\Anaconda3\\lib\\site-packages\\ipykernel_launcher.py:6: UserWarning: The semantics of the Keras 2 argument `steps_per_epoch` is not the same as the Keras 1 argument `samples_per_epoch`. `steps_per_epoch` is the number of batches to draw from the generator at each epoch. Basically steps_per_epoch = samples_per_epoch/batch_size. Similarly `nb_val_samples`->`validation_steps` and `val_samples`->`steps` arguments have changed. Update your method calls accordingly.\n",
      "  \n",
      "C:\\ProgramData\\Anaconda3\\lib\\site-packages\\ipykernel_launcher.py:6: UserWarning: Update your `fit_generator` call to the Keras 2 API: `fit_generator(<keras_pre..., steps_per_epoch=10, verbose=1, validation_data=<keras_pre..., epochs=10, validation_steps=16)`\n",
      "  \n"
     ]
    },
    {
     "name": "stdout",
     "output_type": "stream",
     "text": [
      "10/10 [==============================] - 1s 82ms/step - loss: 0.6291 - acc: 0.7295 - val_loss: 0.8156 - val_acc: 0.7056\n",
      "Epoch 2/10\n",
      "10/10 [==============================] - 1s 77ms/step - loss: 0.7191 - acc: 0.7373 - val_loss: 0.7728 - val_acc: 0.6774\n",
      "Epoch 3/10\n",
      "10/10 [==============================] - 1s 79ms/step - loss: 0.6759 - acc: 0.7044 - val_loss: 0.7111 - val_acc: 0.7742\n",
      "Epoch 4/10\n",
      "10/10 [==============================] - 1s 80ms/step - loss: 0.6659 - acc: 0.7107 - val_loss: 0.7418 - val_acc: 0.7097\n",
      "Epoch 5/10\n",
      "10/10 [==============================] - 1s 78ms/step - loss: 0.7940 - acc: 0.6886 - val_loss: 0.6883 - val_acc: 0.7742\n",
      "Epoch 6/10\n",
      "10/10 [==============================] - 1s 79ms/step - loss: 0.6427 - acc: 0.7785 - val_loss: 0.7556 - val_acc: 0.7137\n",
      "Epoch 7/10\n",
      "10/10 [==============================] - 1s 82ms/step - loss: 0.5606 - acc: 0.7956 - val_loss: 0.5977 - val_acc: 0.8024\n",
      "Epoch 8/10\n",
      "10/10 [==============================] - 1s 79ms/step - loss: 0.5673 - acc: 0.7924 - val_loss: 0.5959 - val_acc: 0.8387\n",
      "Epoch 9/10\n",
      "10/10 [==============================] - 1s 77ms/step - loss: 0.4760 - acc: 0.8428 - val_loss: 0.7610 - val_acc: 0.7137\n",
      "Epoch 10/10\n",
      "10/10 [==============================] - 1s 74ms/step - loss: 0.3825 - acc: 0.8860 - val_loss: 0.7024 - val_acc: 0.8024\n"
     ]
    }
   ],
   "source": [
    "history = classifier.fit_generator(training_set,\n",
    "                         nb_epoch=10,\n",
    "                         nb_val_samples=16,\n",
    "                         steps_per_epoch = 10,\n",
    "                         verbose = 1,\n",
    "                         validation_data = test_set)"
   ]
  },
  {
   "cell_type": "markdown",
   "metadata": {},
   "source": [
    "### 使用模型分類圖片"
   ]
  },
  {
   "cell_type": "code",
   "execution_count": 128,
   "metadata": {
    "scrolled": true
   },
   "outputs": [
    {
     "data": {
      "text/plain": [
       "(317, 272, 3)"
      ]
     },
     "execution_count": 128,
     "metadata": {},
     "output_type": "execute_result"
    }
   ],
   "source": [
    "import cv2 as cv\n",
    "face_cascade = cv.CascadeClassifier('haarcascade_frontalface_default.xml')\n",
    "img = cv.imread('predicted.png')\n",
    "img.shape"
   ]
  },
  {
   "cell_type": "code",
   "execution_count": 129,
   "metadata": {},
   "outputs": [],
   "source": [
    "faces = face_cascade.detectMultiScale(img, 1.3, 3)"
   ]
  },
  {
   "cell_type": "code",
   "execution_count": 130,
   "metadata": {},
   "outputs": [
    {
     "data": {
      "text/plain": [
       "array([[ 36,  78, 102, 102],\n",
       "       [ 49, 163,  74,  74]], dtype=int32)"
      ]
     },
     "execution_count": 130,
     "metadata": {},
     "output_type": "execute_result"
    }
   ],
   "source": [
    "faces"
   ]
  },
  {
   "cell_type": "code",
   "execution_count": 131,
   "metadata": {},
   "outputs": [
    {
     "data": {
      "image/png": "[encoded data removed]",
      "text/plain": [
       "<PIL.Image.Image image mode=RGB size=64x64 at 0x11F18E10>"
      ]
     },
     "execution_count": 131,
     "metadata": {},
     "output_type": "execute_result"
    }
   ],
   "source": [
    "from PIL import Image\n",
    "im = Image.open('predicted.png')\n",
    "x,y,w,h = faces[0]\n",
    "box     = (x, y, x+w, y+h)\n",
    "crpim   = im.crop(box).resize((64,64))\n",
    "crpim"
   ]
  },
  {
   "cell_type": "code",
   "execution_count": 132,
   "metadata": {},
   "outputs": [],
   "source": [
    "crpim.save('predict_face.jpg')"
   ]
  },
  {
   "cell_type": "code",
   "execution_count": 133,
   "metadata": {},
   "outputs": [
    {
     "data": {
      "text/plain": [
       "(64, 64, 3)"
      ]
     },
     "execution_count": 133,
     "metadata": {},
     "output_type": "execute_result"
    }
   ],
   "source": [
    "import numpy as np\n",
    "from keras.preprocessing import image\n",
    "test_image = image.load_img('predict_face.jpg', target_size= (64,64))\n",
    "test_image = image.img_to_array(test_image)\n",
    "test_image.shape"
   ]
  },
  {
   "cell_type": "code",
   "execution_count": 134,
   "metadata": {},
   "outputs": [],
   "source": [
    "#test_image"
   ]
  },
  {
   "cell_type": "code",
   "execution_count": 135,
   "metadata": {},
   "outputs": [
    {
     "data": {
      "text/plain": [
       "(1, 64, 64, 3)"
      ]
     },
     "execution_count": 135,
     "metadata": {},
     "output_type": "execute_result"
    }
   ],
   "source": [
    "test_image = np.expand_dims(test_image, axis = 0)\n",
    "test_image.shape"
   ]
  },
  {
   "cell_type": "code",
   "execution_count": 136,
   "metadata": {},
   "outputs": [
    {
     "data": {
      "text/plain": [
       "array([2], dtype=int64)"
      ]
     },
     "execution_count": 136,
     "metadata": {},
     "output_type": "execute_result"
    }
   ],
   "source": [
    "classifier.predict_classes(test_image)"
   ]
  },
  {
   "cell_type": "code",
   "execution_count": 137,
   "metadata": {},
   "outputs": [
    {
     "data": {
      "text/plain": [
       "{'chilin_face': 0, 'puff_face': 1, 'zhiyu_face': 2}"
      ]
     },
     "execution_count": 137,
     "metadata": {},
     "output_type": "execute_result"
    }
   ],
   "source": [
    "training_set.class_indices"
   ]
  },
  {
   "cell_type": "code",
   "execution_count": 138,
   "metadata": {},
   "outputs": [],
   "source": [
    "dic = {}\n",
    "for k in training_set.class_indices:\n",
    "    dic[training_set.class_indices[k]] = k"
   ]
  },
  {
   "cell_type": "code",
   "execution_count": 139,
   "metadata": {},
   "outputs": [
    {
     "data": {
      "text/plain": [
       "'zhiyu_face'"
      ]
     },
     "execution_count": 139,
     "metadata": {},
     "output_type": "execute_result"
    }
   ],
   "source": [
    "dic.get(classifier.predict_classes(test_image)[0])"
   ]
  }
 ],
 "metadata": {
  "kernelspec": {
   "display_name": "Python 3",
   "language": "python",
   "name": "python3"
  },
  "language_info": {
   "codemirror_mode": {
    "name": "ipython",
    "version": 3
   },
   "file_extension": ".py",
   "mimetype": "text/x-python",
   "name": "python",
   "nbconvert_exporter": "python",
   "pygments_lexer": "ipython3",
   "version": "3.6.2"
  }
 },
 "nbformat": 4,
 "nbformat_minor": 2
}
